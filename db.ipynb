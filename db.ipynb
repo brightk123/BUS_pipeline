{
 "cells": [
  {
   "cell_type": "code",
   "execution_count": 2,
   "id": "11c3863a",
   "metadata": {},
   "outputs": [],
   "source": [
    "from sqlalchemy import create_engine\n",
    "from dotenv import load_dotenv\n",
    "import os"
   ]
  },
  {
   "cell_type": "code",
   "execution_count": 3,
   "id": "282adc6f",
   "metadata": {},
   "outputs": [
    {
     "data": {
      "text/plain": [
       "True"
      ]
     },
     "execution_count": 3,
     "metadata": {},
     "output_type": "execute_result"
    }
   ],
   "source": [
    "# .env 파일 로드\n",
    "load_dotenv()"
   ]
  },
  {
   "cell_type": "code",
   "execution_count": 5,
   "id": "ad48e013",
   "metadata": {},
   "outputs": [],
   "source": [
    "# MySQL 연결 객체 생성 함수\n",
    "def get_engine():\n",
    "    \"\"\"\n",
    "    MySQL 연결 엔진 생성\n",
    "    - Load 단계에서 사용\n",
    "    \"\"\"\n",
    "    user = os.getenv(\"DB_USER\")\n",
    "    password = os.getenv(\"DB_PASSWORD\")\n",
    "    host = os.getenv(\"DB_HOST\")\n",
    "    port = os.getenv(\"DB_PORT\")\n",
    "    db = os.getenv(\"DB_NAME\")\n",
    "\n",
    "    url = f\"mysql+pymysql://{user}:{password}@{host}:{port}/{db}?charset=utf8mb4\"\n",
    "    engine = create_engine(url, echo=False)\n",
    "    return engine\n"
   ]
  }
 ],
 "metadata": {
  "kernelspec": {
   "display_name": "Python 3 (ipykernel)",
   "language": "python",
   "name": "python3"
  },
  "language_info": {
   "codemirror_mode": {
    "name": "ipython",
    "version": 3
   },
   "file_extension": ".py",
   "mimetype": "text/x-python",
   "name": "python",
   "nbconvert_exporter": "python",
   "pygments_lexer": "ipython3",
   "version": "3.11.4"
  }
 },
 "nbformat": 4,
 "nbformat_minor": 5
}
